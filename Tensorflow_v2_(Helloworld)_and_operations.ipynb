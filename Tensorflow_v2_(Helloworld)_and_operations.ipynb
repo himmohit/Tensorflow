{
  "nbformat": 4,
  "nbformat_minor": 0,
  "metadata": {
    "colab": {
      "name": "Tensorflow_v2_(Helloworld)_and_operations.ipynb",
      "provenance": []
    },
    "kernelspec": {
      "name": "python3",
      "display_name": "Python 3"
    },
    "language_info": {
      "name": "python"
    }
  },
  "cells": [
    {
      "cell_type": "code",
      "metadata": {
        "id": "5ty3aOHMqHZH"
      },
      "source": [
        "# Importing important Libraries\n",
        "\n",
        "import numpy as np\n",
        "import tensorflow as tf"
      ],
      "execution_count": 1,
      "outputs": []
    },
    {
      "cell_type": "code",
      "metadata": {
        "colab": {
          "base_uri": "https://localhost:8080/"
        },
        "id": "fUsdhEfQqLsc",
        "outputId": "efadd524-776c-4115-ec09-8c59699ca278"
      },
      "source": [
        "# Helloworld program here.\n",
        "\n",
        "variable = tf.constant(\"Welcome to Helloworld Program\")\n",
        "print(variable)"
      ],
      "execution_count": 2,
      "outputs": [
        {
          "output_type": "stream",
          "name": "stdout",
          "text": [
            "tf.Tensor(b'Welcome to Helloworld Program', shape=(), dtype=string)\n"
          ]
        }
      ]
    },
    {
      "cell_type": "code",
      "metadata": {
        "colab": {
          "base_uri": "https://localhost:8080/"
        },
        "id": "3OgYmjH7qZxI",
        "outputId": "61da6b6c-0d39-4fa3-f65d-5268486e6f09"
      },
      "source": [
        "# Multiplying two numbers with each other.\n",
        "\n",
        "first_number = tf.constant(6)\n",
        "second_number = tf.constant(7)\n",
        "\n",
        "print(first_number * second_number)"
      ],
      "execution_count": 3,
      "outputs": [
        {
          "output_type": "stream",
          "name": "stdout",
          "text": [
            "tf.Tensor(42, shape=(), dtype=int32)\n"
          ]
        }
      ]
    },
    {
      "cell_type": "code",
      "metadata": {
        "colab": {
          "base_uri": "https://localhost:8080/"
        },
        "id": "yZDvf5uBwNKA",
        "outputId": "464630e1-e425-4ec0-d576-d587348eeeac"
      },
      "source": [
        "# Addition of given number.\n",
        "\n",
        "num1 = tf.constant(5)\n",
        "num2 = tf.constant(10)\n",
        "num3 = tf.constant(6)\n",
        "num4 = tf.constant(4)\n",
        "\n",
        "print('First number is 5')\n",
        "print('Second number is 10')\n",
        "print('Third number is 6')\n",
        "print('Fourth number is 4')\n",
        "print('Sum of given number is:', num1+num2+num3+num4)"
      ],
      "execution_count": 4,
      "outputs": [
        {
          "output_type": "stream",
          "name": "stdout",
          "text": [
            "First number is 5\n",
            "Second number is 10\n",
            "Third number is 6\n",
            "Fourth number is 4\n",
            "Sum of given number is: tf.Tensor(25, shape=(), dtype=int32)\n"
          ]
        }
      ]
    },
    {
      "cell_type": "code",
      "metadata": {
        "colab": {
          "base_uri": "https://localhost:8080/"
        },
        "id": "W0Y-mYkVxCmP",
        "outputId": "481bcbe5-176c-47b9-c1a6-c0bc489c6fca"
      },
      "source": [
        "# Create a Matrix of 5*5 where value should be 9.\n",
        "\n",
        "matrix = tf.fill((5,5), 9)\n",
        "\n",
        "print(matrix)"
      ],
      "execution_count": 5,
      "outputs": [
        {
          "output_type": "stream",
          "name": "stdout",
          "text": [
            "tf.Tensor(\n",
            "[[9 9 9 9 9]\n",
            " [9 9 9 9 9]\n",
            " [9 9 9 9 9]\n",
            " [9 9 9 9 9]\n",
            " [9 9 9 9 9]], shape=(5, 5), dtype=int32)\n"
          ]
        }
      ]
    },
    {
      "cell_type": "code",
      "metadata": {
        "colab": {
          "base_uri": "https://localhost:8080/"
        },
        "id": "WWKdYWH5xc8I",
        "outputId": "04d4b4b6-40fb-4a63-eb5d-a0ccdb633af2"
      },
      "source": [
        "# Create a Matrix of 7*7 using zeros on it.\n",
        "\n",
        "Matrix = tf.zeros((7,7))\n",
        "\n",
        "print(Matrix)"
      ],
      "execution_count": 6,
      "outputs": [
        {
          "output_type": "stream",
          "name": "stdout",
          "text": [
            "tf.Tensor(\n",
            "[[0. 0. 0. 0. 0. 0. 0.]\n",
            " [0. 0. 0. 0. 0. 0. 0.]\n",
            " [0. 0. 0. 0. 0. 0. 0.]\n",
            " [0. 0. 0. 0. 0. 0. 0.]\n",
            " [0. 0. 0. 0. 0. 0. 0.]\n",
            " [0. 0. 0. 0. 0. 0. 0.]\n",
            " [0. 0. 0. 0. 0. 0. 0.]], shape=(7, 7), dtype=float32)\n"
          ]
        }
      ]
    },
    {
      "cell_type": "code",
      "metadata": {
        "id": "RfQbUj8xx1hm"
      },
      "source": [
        ""
      ],
      "execution_count": 6,
      "outputs": []
    }
  ]
}