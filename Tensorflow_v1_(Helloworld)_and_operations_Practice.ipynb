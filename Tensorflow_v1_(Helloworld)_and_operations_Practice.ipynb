{
  "nbformat": 4,
  "nbformat_minor": 0,
  "metadata": {
    "colab": {
      "name": "Tensorflow_v1_(Helloworld)_and operations_Practice.ipynb",
      "provenance": []
    },
    "kernelspec": {
      "name": "python3",
      "display_name": "Python 3"
    },
    "language_info": {
      "name": "python"
    }
  },
  "cells": [
    {
      "cell_type": "code",
      "metadata": {
        "id": "2aEUVqWG_N1A"
      },
      "source": [
        "# Importing important Libraries.\n",
        "\n",
        "import tensorflow as tf\n",
        "import numpy as np\n"
      ],
      "execution_count": 2,
      "outputs": []
    },
    {
      "cell_type": "code",
      "metadata": {
        "colab": {
          "base_uri": "https://localhost:8080/"
        },
        "id": "-whWPMlVCTdC",
        "outputId": "35ad77e7-48c4-4288-8278-64008418efdb"
      },
      "source": [
        "# Helloworld program using Tensorflow in 'v1'.\n",
        "\n",
        "tf.compat.v1.disable_v2_behavior()\n",
        "tf.compat.v1.disable_eager_execution()\n",
        "\n",
        "var = tf.constant(\"Hello_World\")\n",
        "\n",
        "sess = tf.compat.v1.Session()\n",
        "print(sess.run(var))\n",
        "sess.close"
      ],
      "execution_count": 14,
      "outputs": [
        {
          "output_type": "stream",
          "name": "stdout",
          "text": [
            "b'Hello_World'\n"
          ]
        },
        {
          "output_type": "execute_result",
          "data": {
            "text/plain": [
              "<bound method BaseSession.close of <tensorflow.python.client.session.Session object at 0x7fab7b48df90>>"
            ]
          },
          "metadata": {},
          "execution_count": 14
        }
      ]
    },
    {
      "cell_type": "code",
      "metadata": {
        "colab": {
          "base_uri": "https://localhost:8080/"
        },
        "id": "Wen8j7ujnhrz",
        "outputId": "ec254c23-055e-4cf8-e8d9-e90c11a604a4"
      },
      "source": [
        "# Helloworld program using Tensorflow in 'v1' without close method.\n",
        "\n",
        "tf.compat.v1.disable_v2_behavior()\n",
        "tf.compat.v1.disable_eager_execution()\n",
        "\n",
        "variable = tf.constant('Hello-World')\n",
        "\n",
        "with tf.compat.v1.Session() as sess:\n",
        "  print(sess.run(variable))"
      ],
      "execution_count": 17,
      "outputs": [
        {
          "output_type": "stream",
          "name": "stdout",
          "text": [
            "b'Hello-World'\n"
          ]
        }
      ]
    },
    {
      "cell_type": "code",
      "metadata": {
        "colab": {
          "base_uri": "https://localhost:8080/"
        },
        "id": "T4Jb8ijLo15Q",
        "outputId": "50e4698c-f809-4741-9237-3fb59bebe601"
      },
      "source": [
        "# Multiplying two numbers here.\n",
        "\n",
        "tf.compat.v1.disable_v2_behavior()\n",
        "tf.compat.v1.disable_eager_execution()\n",
        "\n",
        "variable_1 = tf.constant(2)\n",
        "variable_2 = tf.constant(5)\n",
        "\n",
        "sess = tf.compat.v1.Session()\n",
        "print(sess.run(variable_1 * variable_2))\n",
        "sess.close"
      ],
      "execution_count": 22,
      "outputs": [
        {
          "output_type": "stream",
          "name": "stdout",
          "text": [
            "10\n"
          ]
        },
        {
          "output_type": "execute_result",
          "data": {
            "text/plain": [
              "<bound method BaseSession.close of <tensorflow.python.client.session.Session object at 0x7fab7b556590>>"
            ]
          },
          "metadata": {},
          "execution_count": 22
        }
      ]
    },
    {
      "cell_type": "code",
      "metadata": {
        "colab": {
          "base_uri": "https://localhost:8080/"
        },
        "id": "3K1IAav2puH-",
        "outputId": "7df4aeb6-c928-4c4a-d567-f92eb68485f4"
      },
      "source": [
        "# Adding three numbers using Tensorflow 'v1'.\n",
        "\n",
        "tf.compat.v1.disable_v2_behavior()\n",
        "tf.compat.v1.disable_eager_execution()\n",
        "\n",
        "first_number = tf.constant(5)\n",
        "second_number = tf.constant(10)\n",
        "third_number = tf.constant(15)\n",
        "\n",
        "with tf.compat.v1.Session() as sess:\n",
        "  print(sess.run(first_number + second_number + third_number))"
      ],
      "execution_count": 23,
      "outputs": [
        {
          "output_type": "stream",
          "name": "stdout",
          "text": [
            "30\n"
          ]
        }
      ]
    },
    {
      "cell_type": "code",
      "metadata": {
        "colab": {
          "base_uri": "https://localhost:8080/"
        },
        "id": "rrli8N8stNuz",
        "outputId": "5644704f-a53d-4c43-f1bc-b639cbd59280"
      },
      "source": [
        "# Creating a 5*5 matrix which contain value of 10.\n",
        "\n",
        "tf.compat.v1.disable_v2_behavior()\n",
        "tf.compat.v1.disable_eager_execution()\n",
        "\n",
        "matrix = tf.fill((5,5), 10)\n",
        "\n",
        "sess = tf.compat.v1.Session()\n",
        "print(sess.run(matrix))\n",
        "sess.close"
      ],
      "execution_count": 24,
      "outputs": [
        {
          "output_type": "stream",
          "name": "stdout",
          "text": [
            "[[10 10 10 10 10]\n",
            " [10 10 10 10 10]\n",
            " [10 10 10 10 10]\n",
            " [10 10 10 10 10]\n",
            " [10 10 10 10 10]]\n"
          ]
        },
        {
          "output_type": "execute_result",
          "data": {
            "text/plain": [
              "<bound method BaseSession.close of <tensorflow.python.client.session.Session object at 0x7fab7ac1b190>>"
            ]
          },
          "metadata": {},
          "execution_count": 24
        }
      ]
    },
    {
      "cell_type": "code",
      "metadata": {
        "id": "IimZInxYtzVS"
      },
      "source": [
        ""
      ],
      "execution_count": null,
      "outputs": []
    }
  ]
}